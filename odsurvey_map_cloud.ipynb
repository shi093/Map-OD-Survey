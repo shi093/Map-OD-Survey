{
 "cells": [
  {
   "cell_type": "code",
   "execution_count": 1,
   "id": "a8d8fe72",
   "metadata": {},
   "outputs": [],
   "source": [
    "import geopandas as gpd\n",
    "import leafmap\n",
    "#leafmap.update_package()"
   ]
  },
  {
   "cell_type": "code",
   "execution_count": 3,
   "id": "2d00e17d",
   "metadata": {},
   "outputs": [],
   "source": [
    "gdf_all = gpd.read_file(\"https://github.com/shi093/Map-OD-Survey/blob/126e49d4e6ff20c03153f46137334e8e87981bf2/json/all_fac.json\", driver=\"GeoJSON\")\n",
    "geojson_all = gdf_all.__geo_interface__\n",
    "gdf_gwb = gpd.read_file(\"https://github.com/shi093/Map-OD-Survey/blob/126e49d4e6ff20c03153f46137334e8e87981bf2/json/gwb.json\", driver=\"GeoJSON\")\n",
    "geojson_gwb = gdf_gwb.__geo_interface__\n",
    "gdf_lt = gpd.read_file(\"https://github.com/shi093/Map-OD-Survey/blob/126e49d4e6ff20c03153f46137334e8e87981bf2/json/lt.json\", driver=\"GeoJSON\")\n",
    "geojson_lt = gdf_lt.__geo_interface__\n",
    "gdf_ht = gpd.read_file(\"https://github.com/shi093/Map-OD-Survey/blob/126e49d4e6ff20c03153f46137334e8e87981bf2/json/ht.json\", driver=\"GeoJSON\")\n",
    "geojson_ht = gdf_ht.__geo_interface__\n",
    "gdf_gb = gpd.read_file(\"https://github.com/shi093/Map-OD-Survey/blob/126e49d4e6ff20c03153f46137334e8e87981bf2/json/gb.json\", driver=\"GeoJSON\")\n",
    "geojson_gb = gdf_gb.__geo_interface__\n",
    "gdf_ob = gpd.read_file(\"https://github.com/shi093/Map-OD-Survey/blob/126e49d4e6ff20c03153f46137334e8e87981bf2/json/ob.json\", driver=\"GeoJSON\")\n",
    "geojson_ob = gdf_ob.__geo_interface__\n",
    "gdf_bb = gpd.read_file(\"https://github.com/shi093/Map-OD-Survey/blob/1580bcd251559172d984fa2ec50acb014a6add1d/json/bb.json\", driver=\"GeoJSON\")\n",
    "geojson_bb = gdf_bb.__geo_interface__"
   ]
  },
  {
   "cell_type": "code",
   "execution_count": 8,
   "id": "1d790c86",
   "metadata": {},
   "outputs": [],
   "source": [
    "import branca.colormap as cm\n",
    "colormap = cm.LinearColormap(colors=['lightblue', 'darkblue'], index=[0,100],vmin=1,vmax=max(gdf_all['veh_all']))\n",
    "\n",
    "style = {\n",
    "    \"stroke\": True,\n",
    "    \"color\": \"#FFFFFF\",\n",
    "    \"weight\": 1,\n",
    "    \"opacity\": 0.7,\n",
    "    \"fill\": True,\n",
    "    #\"fillColor\": \"blue\",\n",
    "    \"fillOpacity\": 0.4,\n",
    "}\n",
    "\n",
    "def fill_color(feature):\n",
    "    return {\n",
    "        \"stroke\": True,\n",
    "        \"color\": \"#FFFFFF\",\n",
    "        \"weight\": 1,\n",
    "        \"opacity\": 0.7,\n",
    "        \"fill\": True,\n",
    "        \"fillOpacity\": 0.7,\n",
    "        \"fillColor\": colormap(feature['properties']['veh_all'])\n",
    "    }"
   ]
  },
  {
   "cell_type": "code",
   "execution_count": 13,
   "id": "abcbb904",
   "metadata": {},
   "outputs": [
    {
     "data": {
      "text/html": [
       "<style>div.output_scroll { height: 44em; }</style>"
      ],
      "text/plain": [
       "<IPython.core.display.HTML object>"
      ]
     },
     "metadata": {},
     "output_type": "display_data"
    },
    {
     "data": {
      "application/vnd.jupyter.widget-view+json": {
       "model_id": "d0feda73c1a9456ba75c5a53739079b3",
       "version_major": 2,
       "version_minor": 0
      },
      "text/plain": [
       "Map(center=[40.7341, -73.9113], controls=(ZoomControl(options=['position', 'zoom_in_text', 'zoom_in_title', 'z…"
      ]
     },
     "metadata": {},
     "output_type": "display_data"
    }
   ],
   "source": [
    "from IPython.core.display import display, HTML\n",
    "display(HTML(\"<style>div.output_scroll { height: 44em; }</style>\"))\n",
    "\n",
    "m = leafmap.Map(draw_control=False, measure_control=False, google_map=None,\n",
    "                attribution_control=False, center=[40.7341, -73.9113], zoom = 10, height=\"500px\")\n",
    "m.add_basemap(basemap=\"Stamen.Toner\")\n",
    "m.add_geojson(geojson_all, layer_name=\"All Crossings\", style = style, style_callback=fill_color)\n",
    "\n",
    "m"
   ]
  },
  {
   "cell_type": "code",
   "execution_count": 12,
   "id": "dbaae233",
   "metadata": {},
   "outputs": [
    {
     "data": {
      "text/html": [
       "<style>div.output_scroll { height: 44em; }</style>"
      ],
      "text/plain": [
       "<IPython.core.display.HTML object>"
      ]
     },
     "metadata": {},
     "output_type": "display_data"
    },
    {
     "data": {
      "application/vnd.jupyter.widget-view+json": {
       "model_id": "fb3b6896e5d8462ab65021cf5036a26d",
       "version_major": 2,
       "version_minor": 0
      },
      "text/plain": [
       "Map(center=[40.7341, -73.9113], controls=(ZoomControl(options=['position', 'zoom_in_text', 'zoom_in_title', 'z…"
      ]
     },
     "metadata": {},
     "output_type": "display_data"
    }
   ],
   "source": [
    "from IPython.core.display import display, HTML\n",
    "display(HTML(\"<style>div.output_scroll { height: 44em; }</style>\"))\n",
    "\n",
    "m = leafmap.Map(draw_control=False, measure_control=False, google_map=None,\n",
    "                attribution_control=False, center=[40.7341, -73.9113], zoom = 10, height=\"500px\")\n",
    "m.add_basemap(basemap=\"Stamen.Toner\")\n",
    "\n",
    "# Change Crossing Facility:\n",
    "data = geojson_ht # (choose from _gwb, _ht, _lt, _gb, _ob, _bb)\n",
    "LayerName = \"HT\"\n",
    "\n",
    "m.add_geojson(data, layer_name=LayerName, style = style, style_callback=fill_color)\n",
    "\n",
    "m"
   ]
  },
  {
   "cell_type": "code",
   "execution_count": null,
   "id": "9be8613c-dcec-4ad9-9af6-0f21e0490b60",
   "metadata": {},
   "outputs": [],
   "source": []
  }
 ],
 "metadata": {
  "kernelspec": {
   "display_name": "Python 3",
   "language": "python",
   "name": "python3"
  },
  "language_info": {
   "codemirror_mode": {
    "name": "ipython",
    "version": 3
   },
   "file_extension": ".py",
   "mimetype": "text/x-python",
   "name": "python",
   "nbconvert_exporter": "python",
   "pygments_lexer": "ipython3",
   "version": "3.8.10"
  }
 },
 "nbformat": 4,
 "nbformat_minor": 5
}
